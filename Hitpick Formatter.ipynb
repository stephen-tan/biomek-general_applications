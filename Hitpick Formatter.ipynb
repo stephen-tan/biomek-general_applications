{
 "cells": [
  {
   "cell_type": "code",
   "execution_count": 1,
   "id": "6dae1dcc",
   "metadata": {},
   "outputs": [],
   "source": [
    "# Import dependencies\n",
    "from pathlib import Path\n",
    "from natsort import natsorted, index_natsorted, order_by_index\n",
    "import natsort\n",
    "import pandas as pd\n",
    "import numpy as np\n",
    "import math\n",
    "import re"
   ]
  },
  {
   "cell_type": "markdown",
   "id": "60d58099",
   "metadata": {},
   "source": [
    "## Read in CSV\n",
    "### Order of the columns is important. Columns headers can be anything but must be present.\n",
    "source plate name, source well, destination plate name, destination well, transfer volume (uL)"
   ]
  },
  {
   "cell_type": "code",
   "execution_count": 2,
   "id": "cf418fd0",
   "metadata": {},
   "outputs": [
    {
     "data": {
      "text/html": [
       "<div>\n",
       "<style scoped>\n",
       "    .dataframe tbody tr th:only-of-type {\n",
       "        vertical-align: middle;\n",
       "    }\n",
       "\n",
       "    .dataframe tbody tr th {\n",
       "        vertical-align: top;\n",
       "    }\n",
       "\n",
       "    .dataframe thead th {\n",
       "        text-align: right;\n",
       "    }\n",
       "</style>\n",
       "<table border=\"1\" class=\"dataframe\">\n",
       "  <thead>\n",
       "    <tr style=\"text-align: right;\">\n",
       "      <th></th>\n",
       "      <th>src_plt</th>\n",
       "      <th>src_well</th>\n",
       "      <th>dest_plt</th>\n",
       "      <th>dest_well</th>\n",
       "      <th>volume</th>\n",
       "    </tr>\n",
       "  </thead>\n",
       "  <tbody>\n",
       "    <tr>\n",
       "      <th>0</th>\n",
       "      <td>1000823_1</td>\n",
       "      <td>A01</td>\n",
       "      <td>103832_a</td>\n",
       "      <td>C14</td>\n",
       "      <td>613.303333</td>\n",
       "    </tr>\n",
       "    <tr>\n",
       "      <th>1</th>\n",
       "      <td>1000823_2</td>\n",
       "      <td>A01</td>\n",
       "      <td>103832_b</td>\n",
       "      <td>C15</td>\n",
       "      <td>703.705556</td>\n",
       "    </tr>\n",
       "    <tr>\n",
       "      <th>2</th>\n",
       "      <td>1000823_3</td>\n",
       "      <td>A10</td>\n",
       "      <td>103832_c</td>\n",
       "      <td>C17</td>\n",
       "      <td>680.000000</td>\n",
       "    </tr>\n",
       "    <tr>\n",
       "      <th>3</th>\n",
       "      <td>1000823_4</td>\n",
       "      <td>A12</td>\n",
       "      <td>103832_d</td>\n",
       "      <td>C07</td>\n",
       "      <td>683.947778</td>\n",
       "    </tr>\n",
       "    <tr>\n",
       "      <th>4</th>\n",
       "      <td>1000823_3</td>\n",
       "      <td>A13</td>\n",
       "      <td>103832_e</td>\n",
       "      <td>C06</td>\n",
       "      <td>611.055556</td>\n",
       "    </tr>\n",
       "  </tbody>\n",
       "</table>\n",
       "</div>"
      ],
      "text/plain": [
       "     src_plt src_well  dest_plt dest_well      volume\n",
       "0  1000823_1      A01  103832_a       C14  613.303333\n",
       "1  1000823_2      A01  103832_b       C15  703.705556\n",
       "2  1000823_3      A10  103832_c       C17  680.000000\n",
       "3  1000823_4      A12  103832_d       C07  683.947778\n",
       "4  1000823_3      A13  103832_e       C06  611.055556"
      ]
     },
     "execution_count": 2,
     "metadata": {},
     "output_type": "execute_result"
    }
   ],
   "source": [
    "# Read in CSV file\n",
    "file_path = Path('smallhitpickfile.csv')\n",
    "raw_hitpick_df = pd.read_csv(file_path)\n",
    "raw_hitpick_df"
   ]
  },
  {
   "cell_type": "markdown",
   "id": "1c0f90f4",
   "metadata": {},
   "source": [
    "## Standardize index and column names"
   ]
  },
  {
   "cell_type": "code",
   "execution_count": 3,
   "id": "ffff4bfb",
   "metadata": {},
   "outputs": [
    {
     "data": {
      "text/html": [
       "<div>\n",
       "<style scoped>\n",
       "    .dataframe tbody tr th:only-of-type {\n",
       "        vertical-align: middle;\n",
       "    }\n",
       "\n",
       "    .dataframe tbody tr th {\n",
       "        vertical-align: top;\n",
       "    }\n",
       "\n",
       "    .dataframe thead th {\n",
       "        text-align: right;\n",
       "    }\n",
       "</style>\n",
       "<table border=\"1\" class=\"dataframe\">\n",
       "  <thead>\n",
       "    <tr style=\"text-align: right;\">\n",
       "      <th></th>\n",
       "      <th>Source_Plate_Name</th>\n",
       "      <th>Source_Well</th>\n",
       "      <th>Destination_Plate_Name</th>\n",
       "      <th>Destination_Well</th>\n",
       "      <th>Transfer_Volume_(uL)</th>\n",
       "    </tr>\n",
       "    <tr>\n",
       "      <th>Transfer</th>\n",
       "      <th></th>\n",
       "      <th></th>\n",
       "      <th></th>\n",
       "      <th></th>\n",
       "      <th></th>\n",
       "    </tr>\n",
       "  </thead>\n",
       "  <tbody>\n",
       "    <tr>\n",
       "      <th>1</th>\n",
       "      <td>1000823_1</td>\n",
       "      <td>A01</td>\n",
       "      <td>103832_a</td>\n",
       "      <td>C14</td>\n",
       "      <td>613.303333</td>\n",
       "    </tr>\n",
       "    <tr>\n",
       "      <th>2</th>\n",
       "      <td>1000823_2</td>\n",
       "      <td>A01</td>\n",
       "      <td>103832_b</td>\n",
       "      <td>C15</td>\n",
       "      <td>703.705556</td>\n",
       "    </tr>\n",
       "    <tr>\n",
       "      <th>3</th>\n",
       "      <td>1000823_3</td>\n",
       "      <td>A10</td>\n",
       "      <td>103832_c</td>\n",
       "      <td>C17</td>\n",
       "      <td>680.000000</td>\n",
       "    </tr>\n",
       "    <tr>\n",
       "      <th>4</th>\n",
       "      <td>1000823_4</td>\n",
       "      <td>A12</td>\n",
       "      <td>103832_d</td>\n",
       "      <td>C07</td>\n",
       "      <td>683.947778</td>\n",
       "    </tr>\n",
       "    <tr>\n",
       "      <th>5</th>\n",
       "      <td>1000823_3</td>\n",
       "      <td>A13</td>\n",
       "      <td>103832_e</td>\n",
       "      <td>C06</td>\n",
       "      <td>611.055556</td>\n",
       "    </tr>\n",
       "  </tbody>\n",
       "</table>\n",
       "</div>"
      ],
      "text/plain": [
       "         Source_Plate_Name Source_Well Destination_Plate_Name  \\\n",
       "Transfer                                                        \n",
       "1                1000823_1         A01               103832_a   \n",
       "2                1000823_2         A01               103832_b   \n",
       "3                1000823_3         A10               103832_c   \n",
       "4                1000823_4         A12               103832_d   \n",
       "5                1000823_3         A13               103832_e   \n",
       "\n",
       "         Destination_Well  Transfer_Volume_(uL)  \n",
       "Transfer                                         \n",
       "1                     C14            613.303333  \n",
       "2                     C15            703.705556  \n",
       "3                     C17            680.000000  \n",
       "4                     C07            683.947778  \n",
       "5                     C06            611.055556  "
      ]
     },
     "execution_count": 3,
     "metadata": {},
     "output_type": "execute_result"
    }
   ],
   "source": [
    "# Source Plate Name, Source Well, Destination Plate Name, Destination Well, Transfer Volume (uL)\n",
    "\n",
    "column1 = raw_hitpick_df.columns[0]\n",
    "column2 = raw_hitpick_df.columns[1]\n",
    "column3 = raw_hitpick_df.columns[2]\n",
    "column4 = raw_hitpick_df.columns[3]\n",
    "column5 = raw_hitpick_df.columns[4]\n",
    "\n",
    "\n",
    "hitpick_df = raw_hitpick_df.rename(columns={\n",
    "    column1:'Source_Plate_Name',\n",
    "    column2:'Source_Well',\n",
    "    column3:'Destination_Plate_Name',\n",
    "    column4:'Destination_Well',\n",
    "    column5:'Transfer_Volume_(uL)'\n",
    "})\n",
    "\n",
    "# Start dataframe at index 1 and rename the column to Transfer\n",
    "hitpick_df.index = np.arange(1, len(hitpick_df) + 1)\n",
    "hitpick_df.index.name = 'Transfer'\n",
    "\n",
    "hitpick_df"
   ]
  },
  {
   "cell_type": "markdown",
   "id": "d3850d89",
   "metadata": {},
   "source": [
    "## Format CSV"
   ]
  },
  {
   "cell_type": "code",
   "execution_count": 4,
   "id": "c255668d",
   "metadata": {},
   "outputs": [],
   "source": [
    "def well_number_to_identifier(number, total_well_count):\n",
    "    \n",
    "    # 24-well plate (4 row x 6 col)\n",
    "    if total_well_count == 24:\n",
    "        try:\n",
    "            well_identifier = 'ABCD'[(number - 1) // 6] + str((number - 1) % 6 + 1)\n",
    "            # print(f'{number} ==> {well_identifier}')\n",
    "        except IndexError:\n",
    "            print(f'{number} is an invalid well number. Plate does not have that well.')\n",
    "    \n",
    "    \n",
    "    # 48-well plate (8 row x 6 col)\n",
    "    if total_well_count == 48:\n",
    "        try:\n",
    "            well_identifier = 'ABCDEFGH'[(number - 1) // 6] + str((number - 1) % 6 + 1)\n",
    "            # print(f'{number} ==> {well_identifier}')\n",
    "        except IndexError:\n",
    "            print(f'{number} is an invalid well number. Plate does not have that well.')\n",
    "    \n",
    "    \n",
    "    # 96-well plate (8 row x 12 col)\n",
    "    if total_well_count == 96:\n",
    "        try:\n",
    "            # number = 13\n",
    "            # well_identifier = 'ABCDEFGH[(12 // 12)] + %02d % ((12 % 12) + 1)\n",
    "            # well_identifier = B\n",
    "            well_identifier = 'ABCDEFGH'[(number - 1) // 12] + str((number - 1) % 12 + 1)\n",
    "            # print(f'{number} ==> {well_identifier}')\n",
    "            return well_identifier\n",
    "        except IndexError:\n",
    "            print(f'{number} is an invalid well number. Plate does not have that well.')\n",
    "                  \n",
    "    # 384-well plate (16 rows x 24 col)\n",
    "    if total_well_count == 384:\n",
    "        try:\n",
    "            well_identifier = 'ABCDEFGHIJKLMNOP'[(number - 1) // 24] + str((number - 1) % 24 + 1)\n",
    "            # print(f'{number} ==> {well_identifier}')\n",
    "            return well_identifier\n",
    "        except IndexError:\n",
    "            print(f'{number} is an invalid well number. Plate does not have that well.')"
   ]
  },
  {
   "cell_type": "code",
   "execution_count": 5,
   "id": "b1ea7248",
   "metadata": {},
   "outputs": [
    {
     "name": "stdout",
     "output_type": "stream",
     "text": [
      "A1\n",
      "A100\n"
     ]
    },
    {
     "data": {
      "text/plain": [
       "'A100'"
      ]
     },
     "execution_count": 5,
     "metadata": {},
     "output_type": "execute_result"
    }
   ],
   "source": [
    "# Remove leading zeros and format well identifier to be uppercase\n",
    "# Handle A01 if the user has that value in the column\n",
    "def remove_leading_zeros(identifier):\n",
    "    # Only capture the leading zeros until a nonzero digit is found\n",
    "    regex = \"(0+)(?=[1-9])\"\n",
    "    formatted_identifier = re.sub(regex, \"\", identifier.upper())\n",
    "    print(formatted_identifier)\n",
    "    return formatted_identifier\n",
    "    \n",
    "remove_leading_zeros('A01')\n",
    "remove_leading_zeros('A0100')"
   ]
  },
  {
   "cell_type": "code",
   "execution_count": 6,
   "id": "cbd8c1cf",
   "metadata": {},
   "outputs": [
    {
     "name": "stdout",
     "output_type": "stream",
     "text": [
      "Transfer\n",
      "1    A01\n",
      "2    A01\n",
      "3    A10\n",
      "4    A12\n",
      "5    A13\n",
      "Name: Source_Well, dtype: object\n"
     ]
    }
   ],
   "source": [
    "print(hitpick_df['Source_Well'])"
   ]
  },
  {
   "cell_type": "code",
   "execution_count": 7,
   "id": "70c8862a",
   "metadata": {},
   "outputs": [
    {
     "name": "stdout",
     "output_type": "stream",
     "text": [
      "A1\n",
      "A1\n",
      "A10\n",
      "A12\n",
      "A13\n",
      "C14\n",
      "C15\n",
      "C17\n",
      "C7\n",
      "C6\n"
     ]
    }
   ],
   "source": [
    "# Determine if the wells are formatted numerically (1-96) or by well identifier (e.g. A1 or A01)\n",
    "\n",
    "if (str(hitpick_df.loc[hitpick_df.index[0], 'Source_Well']).isnumeric() == True):\n",
    "    \n",
    "    # Replace the numerical values in hitpick_df\n",
    "    hitpick_df['Source_Well'] = hitpick_df['Source_Well'].apply(lambda row: well_number_to_identifier(row, 96))\n",
    "    hitpick_df['Destination_Well'] = hitpick_df['Destination_Well'].apply(lambda row: well_number_to_identifier(row, 96))\n",
    "\n",
    "# Only check the first character to see if it is a letter\n",
    "elif (str(hitpick_df.loc[hitpick_df.index[0], 'Source_Well'][0]).isalpha() == True):\n",
    "    \n",
    "    \n",
    "    # Replace the well name values in hitpick_df to ensure that there are no leading zeros\n",
    "    hitpick_df['Source_Well'] = hitpick_df['Source_Well'].apply(lambda row: remove_leading_zeros(row))\n",
    "    hitpick_df['Destination_Well'] = hitpick_df['Destination_Well'].apply(lambda row: remove_leading_zeros(row))"
   ]
  },
  {
   "cell_type": "code",
   "execution_count": 8,
   "id": "ca9bd583",
   "metadata": {},
   "outputs": [],
   "source": [
    "# Format all transfer volumes to the tenths place\n",
    "hitpick_df['Transfer_Volume_(uL)'] = hitpick_df['Transfer_Volume_(uL)'].apply(lambda row: \"{:.1f}\".format(row))"
   ]
  },
  {
   "cell_type": "markdown",
   "id": "e777ca3a",
   "metadata": {},
   "source": [
    "## Show transformed worklist"
   ]
  },
  {
   "cell_type": "code",
   "execution_count": 9,
   "id": "f74e428a",
   "metadata": {},
   "outputs": [
    {
     "data": {
      "text/html": [
       "<div>\n",
       "<style scoped>\n",
       "    .dataframe tbody tr th:only-of-type {\n",
       "        vertical-align: middle;\n",
       "    }\n",
       "\n",
       "    .dataframe tbody tr th {\n",
       "        vertical-align: top;\n",
       "    }\n",
       "\n",
       "    .dataframe thead th {\n",
       "        text-align: right;\n",
       "    }\n",
       "</style>\n",
       "<table border=\"1\" class=\"dataframe\">\n",
       "  <thead>\n",
       "    <tr style=\"text-align: right;\">\n",
       "      <th></th>\n",
       "      <th>Source_Plate_Name</th>\n",
       "      <th>Source_Well</th>\n",
       "      <th>Destination_Plate_Name</th>\n",
       "      <th>Destination_Well</th>\n",
       "      <th>Transfer_Volume_(uL)</th>\n",
       "    </tr>\n",
       "    <tr>\n",
       "      <th>Transfer</th>\n",
       "      <th></th>\n",
       "      <th></th>\n",
       "      <th></th>\n",
       "      <th></th>\n",
       "      <th></th>\n",
       "    </tr>\n",
       "  </thead>\n",
       "  <tbody>\n",
       "    <tr>\n",
       "      <th>1</th>\n",
       "      <td>1000823_1</td>\n",
       "      <td>A1</td>\n",
       "      <td>103832_a</td>\n",
       "      <td>C14</td>\n",
       "      <td>613.3</td>\n",
       "    </tr>\n",
       "    <tr>\n",
       "      <th>2</th>\n",
       "      <td>1000823_2</td>\n",
       "      <td>A1</td>\n",
       "      <td>103832_b</td>\n",
       "      <td>C15</td>\n",
       "      <td>703.7</td>\n",
       "    </tr>\n",
       "    <tr>\n",
       "      <th>3</th>\n",
       "      <td>1000823_3</td>\n",
       "      <td>A10</td>\n",
       "      <td>103832_c</td>\n",
       "      <td>C17</td>\n",
       "      <td>680.0</td>\n",
       "    </tr>\n",
       "    <tr>\n",
       "      <th>4</th>\n",
       "      <td>1000823_4</td>\n",
       "      <td>A12</td>\n",
       "      <td>103832_d</td>\n",
       "      <td>C7</td>\n",
       "      <td>683.9</td>\n",
       "    </tr>\n",
       "    <tr>\n",
       "      <th>5</th>\n",
       "      <td>1000823_3</td>\n",
       "      <td>A13</td>\n",
       "      <td>103832_e</td>\n",
       "      <td>C6</td>\n",
       "      <td>611.1</td>\n",
       "    </tr>\n",
       "  </tbody>\n",
       "</table>\n",
       "</div>"
      ],
      "text/plain": [
       "         Source_Plate_Name Source_Well Destination_Plate_Name  \\\n",
       "Transfer                                                        \n",
       "1                1000823_1          A1               103832_a   \n",
       "2                1000823_2          A1               103832_b   \n",
       "3                1000823_3         A10               103832_c   \n",
       "4                1000823_4         A12               103832_d   \n",
       "5                1000823_3         A13               103832_e   \n",
       "\n",
       "         Destination_Well Transfer_Volume_(uL)  \n",
       "Transfer                                        \n",
       "1                     C14                613.3  \n",
       "2                     C15                703.7  \n",
       "3                     C17                680.0  \n",
       "4                      C7                683.9  \n",
       "5                      C6                611.1  "
      ]
     },
     "execution_count": 9,
     "metadata": {},
     "output_type": "execute_result"
    }
   ],
   "source": [
    "# Show transformed dataframe\n",
    "hitpick_df"
   ]
  },
  {
   "cell_type": "markdown",
   "id": "fae9beaa",
   "metadata": {},
   "source": [
    "## Display important worklist information"
   ]
  },
  {
   "cell_type": "code",
   "execution_count": 10,
   "id": "a358ceaf",
   "metadata": {},
   "outputs": [
    {
     "name": "stdout",
     "output_type": "stream",
     "text": [
      "Smallest transfer (uL): 611.1\n",
      "Largest transfer (uL): 703.7\n"
     ]
    }
   ],
   "source": [
    "# Get the smallest and largest transfer volumes\n",
    "smallest_transfer_vol = hitpick_df['Transfer_Volume_(uL)'].min()\n",
    "largest_transfer_vol = hitpick_df['Transfer_Volume_(uL)'].max()\n",
    "print(f'Smallest transfer (uL): {smallest_transfer_vol}')\n",
    "print(f'Largest transfer (uL): {largest_transfer_vol}')"
   ]
  },
  {
   "cell_type": "code",
   "execution_count": 11,
   "id": "c25d4c8e",
   "metadata": {},
   "outputs": [
    {
     "name": "stdout",
     "output_type": "stream",
     "text": [
      "4 source plates: ['1000823_1' '1000823_2' '1000823_3' '1000823_4']\n",
      "5 destination plates: ['103832_a' '103832_b' '103832_c' '103832_d' '103832_e']\n",
      "1 tip boxes needed for 5 transfers\n"
     ]
    }
   ],
   "source": [
    "# Get the unique values in the source and destination plate names columns\n",
    "# Add them to a total_labware list\n",
    "\n",
    "num_source_plates = hitpick_df.Source_Plate_Name.nunique()\n",
    "source_plate_names = hitpick_df.Source_Plate_Name.unique()\n",
    "print(f'{num_source_plates} source plates: {source_plate_names}')\n",
    "\n",
    "num_destination_plates = hitpick_df.Destination_Plate_Name.nunique()\n",
    "destination_plate_names = hitpick_df.Destination_Plate_Name.unique()\n",
    "print(f'{num_destination_plates} destination plates: {destination_plate_names}')\n",
    "\n",
    "num_tips_required = len(hitpick_df.index - 1) # subtract 1 for header row\n",
    "num_tip_boxes = math.ceil(num_tips_required / 96)\n",
    "print(f'{num_tip_boxes} tip boxes needed for {num_tips_required} transfers')"
   ]
  },
  {
   "cell_type": "code",
   "execution_count": 12,
   "id": "dbe41a05",
   "metadata": {},
   "outputs": [
    {
     "name": "stdout",
     "output_type": "stream",
     "text": [
      "The hitpick requires 10 deck positions\n"
     ]
    }
   ],
   "source": [
    "# Calculate how many decks are required to complete the hitpick...\n",
    "# since there may be longer hitpicks that require more than 12 deck positions\n",
    "\n",
    "# Deck layout\n",
    "# P1    P4    P7    P10\n",
    "# P2    P5    P8    P11\n",
    "# P3    P6    P9    P12\n",
    "\n",
    "total_deck_positions = 12\n",
    "total_labware_positions = num_source_plates + num_destination_plates + num_tip_boxes\n",
    "total_available_deck_positions = total_deck_positions - total_labware_positions\n",
    "\n",
    "# If the total available deck positions is a negative value, that means there is too much labware\n",
    "print(f'The hitpick requires {total_labware_positions} deck positions')"
   ]
  },
  {
   "cell_type": "code",
   "execution_count": 13,
   "id": "5dc579a3",
   "metadata": {},
   "outputs": [
    {
     "data": {
      "text/plain": [
       "['1000823_1',\n",
       " '1000823_2',\n",
       " '1000823_3',\n",
       " '1000823_4',\n",
       " '103832_a',\n",
       " '103832_b',\n",
       " '103832_c',\n",
       " '103832_d',\n",
       " '103832_e',\n",
       " 'tips_1']"
      ]
     },
     "execution_count": 13,
     "metadata": {},
     "output_type": "execute_result"
    }
   ],
   "source": [
    "# Add the labware TYPES (tips, source, destination) to a list and dynamically populate the deck\n",
    "all_labware_names = []\n",
    "\n",
    "for source_index in range(num_source_plates):\n",
    "    all_labware_names.append(source_plate_names[source_index])\n",
    "    \n",
    "for dest_index in range(num_destination_plates):\n",
    "    all_labware_names.append(destination_plate_names[dest_index])\n",
    "    \n",
    "for tips_index in range(num_tip_boxes):\n",
    "    all_labware_names.append('tips_' + str(tips_index + 1))\n",
    "\n",
    "all_labware_names"
   ]
  },
  {
   "cell_type": "markdown",
   "id": "2be65846",
   "metadata": {},
   "source": [
    "## Sort labware by most transfers (descending) and then alphanumerically"
   ]
  },
  {
   "cell_type": "code",
   "execution_count": 14,
   "id": "4757ad0e",
   "metadata": {
    "scrolled": true
   },
   "outputs": [
    {
     "data": {
      "text/html": [
       "<div>\n",
       "<style scoped>\n",
       "    .dataframe tbody tr th:only-of-type {\n",
       "        vertical-align: middle;\n",
       "    }\n",
       "\n",
       "    .dataframe tbody tr th {\n",
       "        vertical-align: top;\n",
       "    }\n",
       "\n",
       "    .dataframe thead th {\n",
       "        text-align: right;\n",
       "    }\n",
       "</style>\n",
       "<table border=\"1\" class=\"dataframe\">\n",
       "  <thead>\n",
       "    <tr style=\"text-align: right;\">\n",
       "      <th></th>\n",
       "      <th>Number_of_Transfers</th>\n",
       "    </tr>\n",
       "    <tr>\n",
       "      <th>Source_Name</th>\n",
       "      <th></th>\n",
       "    </tr>\n",
       "  </thead>\n",
       "  <tbody>\n",
       "    <tr>\n",
       "      <th>1000823_3</th>\n",
       "      <td>2</td>\n",
       "    </tr>\n",
       "    <tr>\n",
       "      <th>1000823_1</th>\n",
       "      <td>1</td>\n",
       "    </tr>\n",
       "    <tr>\n",
       "      <th>1000823_2</th>\n",
       "      <td>1</td>\n",
       "    </tr>\n",
       "    <tr>\n",
       "      <th>1000823_4</th>\n",
       "      <td>1</td>\n",
       "    </tr>\n",
       "  </tbody>\n",
       "</table>\n",
       "</div>"
      ],
      "text/plain": [
       "             Number_of_Transfers\n",
       "Source_Name                     \n",
       "1000823_3                      2\n",
       "1000823_1                      1\n",
       "1000823_2                      1\n",
       "1000823_4                      1"
      ]
     },
     "execution_count": 14,
     "metadata": {},
     "output_type": "execute_result"
    }
   ],
   "source": [
    "# Count how many times each source labware appears in the worklist\n",
    "sorted_source_name_series = hitpick_df.Source_Plate_Name.value_counts().sort_index(ascending=True).sort_values(ascending=False)\n",
    "\n",
    "# Convert series to a dictionary, where the key = plate name and the value = # transfers out of that plate\n",
    "sorted_source_name_series.to_dict()\n",
    "\n",
    "# Sort by most transfers first, then alphanumerically\n",
    "sorted_source_name_series = natsort.natsorted(sorted_source_name_series.items(), key=lambda x: (-x[1], x[0]))\n",
    "\n",
    "# Convert the sorted series into a dataframe\n",
    "sorted_source_names_df = pd.DataFrame(sorted_source_name_series)\n",
    "\n",
    "# Rename the columns and set the labware name as the index\n",
    "sorted_source_names_df.rename(columns={0: \"Source_Name\", 1: \"Number_of_Transfers\"}, inplace=True)\n",
    "sorted_source_names_df = sorted_source_names_df.set_index(\"Source_Name\")\n",
    "\n",
    "# Display the dataframe\n",
    "sorted_source_names_df.head()"
   ]
  },
  {
   "cell_type": "code",
   "execution_count": 15,
   "id": "18f5b6b7",
   "metadata": {},
   "outputs": [
    {
     "data": {
      "text/html": [
       "<div>\n",
       "<style scoped>\n",
       "    .dataframe tbody tr th:only-of-type {\n",
       "        vertical-align: middle;\n",
       "    }\n",
       "\n",
       "    .dataframe tbody tr th {\n",
       "        vertical-align: top;\n",
       "    }\n",
       "\n",
       "    .dataframe thead th {\n",
       "        text-align: right;\n",
       "    }\n",
       "</style>\n",
       "<table border=\"1\" class=\"dataframe\">\n",
       "  <thead>\n",
       "    <tr style=\"text-align: right;\">\n",
       "      <th></th>\n",
       "      <th>Number_of_Transfers</th>\n",
       "    </tr>\n",
       "    <tr>\n",
       "      <th>Destination_Name</th>\n",
       "      <th></th>\n",
       "    </tr>\n",
       "  </thead>\n",
       "  <tbody>\n",
       "    <tr>\n",
       "      <th>103832_a</th>\n",
       "      <td>1</td>\n",
       "    </tr>\n",
       "    <tr>\n",
       "      <th>103832_b</th>\n",
       "      <td>1</td>\n",
       "    </tr>\n",
       "    <tr>\n",
       "      <th>103832_c</th>\n",
       "      <td>1</td>\n",
       "    </tr>\n",
       "    <tr>\n",
       "      <th>103832_d</th>\n",
       "      <td>1</td>\n",
       "    </tr>\n",
       "    <tr>\n",
       "      <th>103832_e</th>\n",
       "      <td>1</td>\n",
       "    </tr>\n",
       "  </tbody>\n",
       "</table>\n",
       "</div>"
      ],
      "text/plain": [
       "                  Number_of_Transfers\n",
       "Destination_Name                     \n",
       "103832_a                            1\n",
       "103832_b                            1\n",
       "103832_c                            1\n",
       "103832_d                            1\n",
       "103832_e                            1"
      ]
     },
     "execution_count": 15,
     "metadata": {},
     "output_type": "execute_result"
    }
   ],
   "source": [
    "# Count how many times each destination labware appears in the worklist\n",
    "sorted_destination_name_series = hitpick_df.Destination_Plate_Name.value_counts().sort_index(ascending=True).sort_values(ascending=False)\n",
    "\n",
    "# Convert series to a dictionary, where the key = plate name and the value = # transfers out of that plate\n",
    "sorted_destination_name_series.to_dict()\n",
    "\n",
    "# Sort by most transfers first, then alphanumerically\n",
    "sorted_destination_name_series = natsort.natsorted(sorted_destination_name_series.items(), key=lambda x: (-x[1], x[0]))\n",
    "\n",
    "# Convert the sorted series into a dataframe\n",
    "sorted_destination_name_df = pd.DataFrame(sorted_destination_name_series)\n",
    "\n",
    "# Rename the columns and set the labware name as the index\n",
    "sorted_destination_name_df.rename(columns={0: \"Destination_Name\", 1: \"Number_of_Transfers\"}, inplace=True)\n",
    "sorted_destination_name_df = sorted_destination_name_df.set_index(\"Destination_Name\")\n",
    "\n",
    "# Display the dataframe\n",
    "sorted_destination_name_df.head()"
   ]
  },
  {
   "cell_type": "code",
   "execution_count": 16,
   "id": "e74eb1ef",
   "metadata": {},
   "outputs": [
    {
     "data": {
      "text/html": [
       "<div>\n",
       "<style scoped>\n",
       "    .dataframe tbody tr th:only-of-type {\n",
       "        vertical-align: middle;\n",
       "    }\n",
       "\n",
       "    .dataframe tbody tr th {\n",
       "        vertical-align: top;\n",
       "    }\n",
       "\n",
       "    .dataframe thead th {\n",
       "        text-align: right;\n",
       "    }\n",
       "</style>\n",
       "<table border=\"1\" class=\"dataframe\">\n",
       "  <thead>\n",
       "    <tr style=\"text-align: right;\">\n",
       "      <th></th>\n",
       "      <th>Number_of_Transfers</th>\n",
       "    </tr>\n",
       "    <tr>\n",
       "      <th>Source_Well_Identifier</th>\n",
       "      <th></th>\n",
       "    </tr>\n",
       "  </thead>\n",
       "  <tbody>\n",
       "    <tr>\n",
       "      <th>A1</th>\n",
       "      <td>2</td>\n",
       "    </tr>\n",
       "    <tr>\n",
       "      <th>A10</th>\n",
       "      <td>1</td>\n",
       "    </tr>\n",
       "    <tr>\n",
       "      <th>A12</th>\n",
       "      <td>1</td>\n",
       "    </tr>\n",
       "    <tr>\n",
       "      <th>A13</th>\n",
       "      <td>1</td>\n",
       "    </tr>\n",
       "  </tbody>\n",
       "</table>\n",
       "</div>"
      ],
      "text/plain": [
       "                        Number_of_Transfers\n",
       "Source_Well_Identifier                     \n",
       "A1                                        2\n",
       "A10                                       1\n",
       "A12                                       1\n",
       "A13                                       1"
      ]
     },
     "execution_count": 16,
     "metadata": {},
     "output_type": "execute_result"
    }
   ],
   "source": [
    "# Count how many times each source well appears in the worklist\n",
    "sorted_source_well_series = hitpick_df.Source_Well.value_counts().sort_index(ascending=True).sort_values(ascending=False)\n",
    "\n",
    "# Convert series to a dictionary, where the key = source well identifier and the value = # transfers out of that well\n",
    "sorted_source_well_series.to_dict()\n",
    "\n",
    "# Sort by most transfers first, then alphanumerically\n",
    "sorted_source_well_series = natsort.natsorted(sorted_source_well_series.items(), key=lambda x: (-x[1], x[0]))\n",
    "\n",
    "# Convert the sorted series into a dataframe\n",
    "sorted_source_well_df = pd.DataFrame(sorted_source_well_series)\n",
    "\n",
    "# Rename the columns and set the labware name as the index\n",
    "sorted_source_well_df.rename(columns={0: \"Source_Well_Identifier\", 1: \"Number_of_Transfers\"}, inplace=True)\n",
    "sorted_source_well_df = sorted_source_well_df.set_index(\"Source_Well_Identifier\")\n",
    "\n",
    "# Display the dataframe\n",
    "sorted_source_well_df.head()"
   ]
  },
  {
   "cell_type": "code",
   "execution_count": 17,
   "id": "18eee45a",
   "metadata": {},
   "outputs": [
    {
     "data": {
      "text/html": [
       "<div>\n",
       "<style scoped>\n",
       "    .dataframe tbody tr th:only-of-type {\n",
       "        vertical-align: middle;\n",
       "    }\n",
       "\n",
       "    .dataframe tbody tr th {\n",
       "        vertical-align: top;\n",
       "    }\n",
       "\n",
       "    .dataframe thead th {\n",
       "        text-align: right;\n",
       "    }\n",
       "</style>\n",
       "<table border=\"1\" class=\"dataframe\">\n",
       "  <thead>\n",
       "    <tr style=\"text-align: right;\">\n",
       "      <th></th>\n",
       "      <th>Number_of_Transfers</th>\n",
       "    </tr>\n",
       "    <tr>\n",
       "      <th>Destination_Well_Identifier</th>\n",
       "      <th></th>\n",
       "    </tr>\n",
       "  </thead>\n",
       "  <tbody>\n",
       "    <tr>\n",
       "      <th>C6</th>\n",
       "      <td>1</td>\n",
       "    </tr>\n",
       "    <tr>\n",
       "      <th>C7</th>\n",
       "      <td>1</td>\n",
       "    </tr>\n",
       "    <tr>\n",
       "      <th>C14</th>\n",
       "      <td>1</td>\n",
       "    </tr>\n",
       "    <tr>\n",
       "      <th>C15</th>\n",
       "      <td>1</td>\n",
       "    </tr>\n",
       "    <tr>\n",
       "      <th>C17</th>\n",
       "      <td>1</td>\n",
       "    </tr>\n",
       "  </tbody>\n",
       "</table>\n",
       "</div>"
      ],
      "text/plain": [
       "                             Number_of_Transfers\n",
       "Destination_Well_Identifier                     \n",
       "C6                                             1\n",
       "C7                                             1\n",
       "C14                                            1\n",
       "C15                                            1\n",
       "C17                                            1"
      ]
     },
     "execution_count": 17,
     "metadata": {},
     "output_type": "execute_result"
    }
   ],
   "source": [
    "# Count how many times each destination well appears in the worklist\n",
    "sorted_destination_well_series = hitpick_df.Destination_Well.value_counts().sort_index(ascending=True).sort_values(ascending=False)\n",
    "\n",
    "# Convert series to a dictionary, where the key = destination well identifier and the value = # transfers out of that well\n",
    "sorted_destination_well_series.to_dict()\n",
    "\n",
    "# Sort by most transfers first, then alphanumerically\n",
    "sorted_destination_well_series = natsort.natsorted(sorted_destination_well_series.items(), key=lambda x: (-x[1], x[0]))\n",
    "\n",
    "# Convert the sorted series into a dataframe\n",
    "sorted_destination_well_df = pd.DataFrame(sorted_destination_well_series)\n",
    "\n",
    "# Rename the columns and set the labware name as the index\n",
    "sorted_destination_well_df.rename(columns={0: \"Destination_Well_Identifier\", 1: \"Number_of_Transfers\"}, inplace=True)\n",
    "sorted_destination_well_df = sorted_destination_well_df.set_index(\"Destination_Well_Identifier\")\n",
    "\n",
    "# Display the dataframe\n",
    "sorted_destination_well_df.head()"
   ]
  },
  {
   "cell_type": "markdown",
   "id": "78f4deae",
   "metadata": {},
   "source": [
    "## Split the hitpick worklist into multiple files (if necessary)"
   ]
  },
  {
   "cell_type": "code",
   "execution_count": 18,
   "id": "4a7b156a",
   "metadata": {},
   "outputs": [],
   "source": [
    "# Create a variable to track if the hitpick needs to be split\n",
    "split_hitpick = False\n",
    "\n",
    "# If there are not enough deck positions then a new instrument setup is needed ...\n",
    "# and the hitpick needs to be split into multiple files\n",
    "additional_instrument_setups_needed = math.ceil(abs(total_available_deck_positions / 12))\n",
    "\n",
    "# Determine how many deck setups are needed\n",
    "if total_available_deck_positions < 0:\n",
    "    print('There has to be ' + str(additional_instrument_setups_needed) + ' additional instrument setup(s)')\n",
    "    split_hitpick = True\n",
    "\n",
    "\n",
    "# If the hitpick needs to be split into multiple files, determine how to split them\n",
    "# CHRONOLOGICALLY, MAXIMIZE DECK SPACE AS MUCH AS POSSIBLE\n",
    "# can limit based on source, dest, or tip type\n",
    "\n",
    "\n",
    "# heuristic / greedy algorithm for optimization\n",
    "# treat source and dest plates the same but sort based off of transfers\n",
    "# eliminate plates from least used to most used\n",
    "# however may not be the most optimal with combination of source/dest\n",
    "\n",
    "# can also do pair-wise\n",
    "\n",
    "# can also eliminate source first\n",
    "\n",
    "# or eliminate destination first"
   ]
  },
  {
   "cell_type": "code",
   "execution_count": 19,
   "id": "bfea2d5e",
   "metadata": {},
   "outputs": [],
   "source": [
    "# Chronological split (maximize deck space)\n"
   ]
  },
  {
   "cell_type": "code",
   "execution_count": 20,
   "id": "500cf258",
   "metadata": {},
   "outputs": [],
   "source": [
    "# Greedy split (use labware with most transfers first)"
   ]
  }
 ],
 "metadata": {
  "kernelspec": {
   "display_name": "Python 3",
   "language": "python",
   "name": "python3"
  },
  "language_info": {
   "codemirror_mode": {
    "name": "ipython",
    "version": 3
   },
   "file_extension": ".py",
   "mimetype": "text/x-python",
   "name": "python",
   "nbconvert_exporter": "python",
   "pygments_lexer": "ipython3",
   "version": "3.8.8"
  }
 },
 "nbformat": 4,
 "nbformat_minor": 5
}
